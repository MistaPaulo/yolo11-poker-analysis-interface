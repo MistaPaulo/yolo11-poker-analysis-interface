{
 "cells": [
  {
   "cell_type": "markdown",
   "metadata": {},
   "source": [
    "# Testing the `analyze_hands.py` script"
   ]
  },
  {
   "cell_type": "code",
   "execution_count": 3,
   "metadata": {},
   "outputs": [],
   "source": [
    "from analyze_hand import analyze_hand"
   ]
  },
  {
   "cell_type": "code",
   "execution_count": 4,
   "metadata": {},
   "outputs": [
    {
     "data": {
      "text/plain": [
       "{'One Pair': 1.0,\n",
       " 'Two Pair': 1.0,\n",
       " 'Three of a Kind': 1.0,\n",
       " 'Four of a Kind': 1.0,\n",
       " 'Full House': 0.18593894542090658}"
      ]
     },
     "execution_count": 4,
     "metadata": {},
     "output_type": "execute_result"
    }
   ],
   "source": [
    "analyze_hand([\"2H\", \"2C\",], [\"2D\", \"2S\"])"
   ]
  },
  {
   "cell_type": "code",
   "execution_count": 5,
   "metadata": {},
   "outputs": [],
   "source": [
    "# D: Diamond\n",
    "# C: Club\n",
    "# H: Heart\n",
    "# S: Spade\n",
    "def test_analyze_hand():\n",
    "\n",
    "    symbol_table = {\"D\": \"♦\", \"C\": \"♣\", \"H\": \"♥\", \"S\": \"♠\"}\n",
    "\n",
    "    # upto 5 cards\n",
    "    tables = [\n",
    "        [\"3D\", \"3C\"],\n",
    "        [\"6S\", \"2H\", \"3S\"],\n",
    "        [\"6S\", \"2H\", \"3S\"],\n",
    "        [\"AS\"],\n",
    "        [\"5H\", \"3C\", \"4H\"],\n",
    "    ]\n",
    "\n",
    "    # only 2 cards\n",
    "    hands = [\n",
    "        [\"3S\", \"3H\"],\n",
    "        [\"4S\", \"5H\"],\n",
    "        [\"4S\", \"8H\"],\n",
    "        [\"4S\", \"6C\"],\n",
    "        [\"2H\", \"3H\"],\n",
    "    ]\n",
    "\n",
    "    for table, hand in zip(tables, hands):\n",
    "        print(f\"Table:\", end=\" \")\n",
    "        for i, card in enumerate(table):\n",
    "            print(f\"{card[0]}{symbol_table[card[1]]}\", end=\" \")\n",
    "        print()\n",
    "\n",
    "        print(f\"Hand:\", end=\" \")\n",
    "        for i, card in enumerate(hand):\n",
    "            print(f\"{card[0]}{symbol_table[card[1]]}\", end=\" \")\n",
    "        print()\n",
    "        \n",
    "        probs = analyze_hand(table, hand)\n",
    "        for k, v in probs.items():\n",
    "            if int(v*100) > 0:\n",
    "                print(f\"-- {k}: {int(v*100)}%\")\n",
    "        print()"
   ]
  },
  {
   "cell_type": "code",
   "execution_count": 6,
   "metadata": {},
   "outputs": [
    {
     "name": "stdout",
     "output_type": "stream",
     "text": [
      "Table: 3♦ 3♣ \n",
      "Hand: 3♠ 3♥ \n",
      "-- One Pair: 100%\n",
      "-- Two Pair: 100%\n",
      "-- Three of a Kind: 100%\n",
      "-- Four of a Kind: 100%\n",
      "-- Full House: 18%\n",
      "\n",
      "Table: 6♠ 2♥ 3♠ \n",
      "Hand: 4♠ 5♥ \n",
      "-- Straight: 100%\n",
      "-- One Pair: 58%\n",
      "-- Two Pair: 8%\n",
      "-- Straight Flush: 4%\n",
      "-- Flush: 4%\n",
      "-- Three of a Kind: 1%\n",
      "\n",
      "Table: 6♠ 2♥ 3♠ \n",
      "Hand: 4♠ 8♥ \n",
      "-- One Pair: 58%\n",
      "-- Straight: 16%\n",
      "-- Two Pair: 8%\n",
      "-- Flush: 4%\n",
      "-- Three of a Kind: 1%\n",
      "\n",
      "Table: A♠ \n",
      "Hand: 4♠ 6♣ \n",
      "-- One Pair: 74%\n",
      "-- Two Pair: 21%\n",
      "-- Three of a Kind: 5%\n",
      "-- Straight: 3%\n",
      "-- Flush: 3%\n",
      "-- Full House: 1%\n",
      "\n",
      "Table: 5♥ 3♣ 4♥ \n",
      "Hand: 2♥ 3♥ \n",
      "-- One Pair: 100%\n",
      "-- Two Pair: 40%\n",
      "-- Flush: 34%\n",
      "-- Straight: 16%\n",
      "-- Three of a Kind: 9%\n",
      "-- Straight Flush: 6%\n",
      "-- Full House: 2%\n",
      "\n"
     ]
    }
   ],
   "source": [
    "test_analyze_hand()"
   ]
  }
 ],
 "metadata": {
  "kernelspec": {
   "display_name": "Python 3",
   "language": "python",
   "name": "python3"
  },
  "language_info": {
   "codemirror_mode": {
    "name": "ipython",
    "version": 3
   },
   "file_extension": ".py",
   "mimetype": "text/x-python",
   "name": "python",
   "nbconvert_exporter": "python",
   "pygments_lexer": "ipython3",
   "version": "3.10.11"
  }
 },
 "nbformat": 4,
 "nbformat_minor": 2
}
